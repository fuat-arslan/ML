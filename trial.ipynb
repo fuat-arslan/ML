{
 "cells": [
  {
   "cell_type": "code",
   "execution_count": 1,
   "metadata": {},
   "outputs": [],
   "source": [
    "class DecisionTreeclassifier():\n",
    "    def __init__(self, max_depth = 3):\n",
    "        self.max_depth = max_depth\n",
    "        self.tree = None\n",
    "    def fit(self, X, y):\n",
    "        self.tree = self._build_tree(X, y)\n",
    "    def predict(self, X):\n",
    "        return np.array([self._predict(inputs) for inputs in X])\n",
    "    def _build_tree(self, X, y, depth = 0):\n",
    "        n_samples, n_features = X.shape\n",
    "        n_labels = len(np.unique(y))\n",
    "        if (depth >= self.max_depth or n_labels == 1 or n_samples < 2):\n",
    "            leaf_value = self._most_common_label(y)\n",
    "            return Node(value = leaf_value)\n",
    "        feature_idx, threshold = self._best_criteria(X, y)\n",
    "        left_idx, right_idx = self._split(X[:, feature_idx], threshold)\n",
    "        left = self._build_tree(X[left_idx, :], y[left_idx], depth + 1)\n",
    "        right = self._build_tree(X[right_idx, :], y[right_idx], depth + 1)\n",
    "        return Node(feature_idx, threshold, left, right)\n",
    "    def _best_criteria(self, X, y):\n",
    "        m = X.shape[1]\n",
    "        best_gini = 100\n",
    "        split_idx, split_th = None, None\n",
    "        for idx in range(m):\n",
    "            X_column = X[:, idx]\n",
    "            thresholds = np.unique(X_column)\n",
    "            for threshold in thresholds:\n",
    "                _, y_pred = self._split(X_column, threshold)\n",
    "                if len(y_pred) == 0:\n",
    "                    continue\n",
    "                gini = self._gini(y, y_pred)\n",
    "                if gini < best_gini:\n",
    "                    best_gini = gini\n",
    "                    split_idx = idx\n",
    "                    split_th = threshold\n",
    "        return split_idx, split_th\n",
    "    def _gini(self, y, y_pred):\n",
    "        m = y.shape[0]\n",
    "        gini = 0\n",
    "        for k in np.unique(y):\n",
    "            p_k = np.sum(y == k) / m\n",
    "            p_k_pred = np.sum(y_pred == k) / m\n",
    "            gini += p_k * p_k_pred\n",
    "        return 1 - gini\n",
    "    def _split(self, X_column, split_th):\n",
    "        left_idx = np.argwhere(X_column <= split_th).flatten()\n",
    "        right_idx = np.argwhere(X_column > split_th).flatten()\n",
    "        return"
   ]
  },
  {
   "cell_type": "code",
   "execution_count": null,
   "metadata": {},
   "outputs": [],
   "source": [
    "class GradientBoostingClassifier():\n",
    "    def __init__(self, n_estimators = 100, max_depth = 3, learning_rate = 0.1):\n",
    "        self.n_estimators = n_estimators\n",
    "        self.max_depth = max_depth\n",
    "        self.learning_rate = learning_rate\n",
    "        self.estimators = []\n",
    "    def fit(self, X, y):\n",
    "        y_pred = np.full(np.shape(y), np.mean(y, axis = 0))\n",
    "        for _ in range(self.n_estimators):\n",
    "            residual = - (y - y_pred)\n",
    "            tree = DecisionTreeclassifier(max_depth = self.max_depth)\n",
    "            tree.fit(X, residual)\n",
    "            self.estimators.append(tree)\n",
    "            update_pred = tree.predict(X)\n",
    "            y_pred -= np.multiply(self.learning_rate, update_pred)\n",
    "    def predict(self, X):\n",
    "        y_pred = np.array([])\n",
    "        for tree in self.estimators:\n",
    "            update_pred = tree.predict(X)\n",
    "            y_pred = np.append(y_pred, update_pred)\n",
    "        y_pred = np.reshape(y_pred, (self.n_estimators, -1))\n",
    "        y_pred = np.sum(y_pred, axis = 0)\n",
    "        return np.sign(y_pred)\n"
   ]
  },
  {
   "cell_type": "code",
   "execution_count": 2,
   "metadata": {},
   "outputs": [
    {
     "ename": "SyntaxError",
     "evalue": "incomplete input (3688676531.py, line 1)",
     "output_type": "error",
     "traceback": [
      "\u001b[0;36m  Cell \u001b[0;32mIn[2], line 1\u001b[0;36m\u001b[0m\n\u001b[0;31m    class L2GradientBoostinClassifier():\u001b[0m\n\u001b[0m                                        ^\u001b[0m\n\u001b[0;31mSyntaxError\u001b[0m\u001b[0;31m:\u001b[0m incomplete input\n"
     ]
    }
   ],
   "source": [
    "class L2RegularizedGradientBoostinClassifier():\n",
    "    def __init__(self, n_estimators = 100, max_depth = 3, learning_rate = 0.1, lambda_ = 0.1):\n",
    "        self.n_estimators = n_estimators\n",
    "        self.max_depth = max_depth\n",
    "        self.learning_rate = learning_rate\n",
    "        self.lambda_ = lambda_\n",
    "        self.estimators = []\n",
    "    def fit(self, X, y):\n",
    "        y_pred = np.full(np.shape(y), np.mean(y, axis = 0))\n",
    "        for _ in range(self.n_estimators):\n",
    "            residual = - (y - y_pred)\n",
    "            tree = DecisionTreeclassifier(max_depth = self.max_depth)\n",
    "            tree.fit(X, residual)\n",
    "            self.estimators.append(tree)\n",
    "            update_pred = tree.predict(X)\n",
    "            y_pred -= np.multiply(self.learning_rate, update_pred)\n",
    "    def predict(self, X):\n",
    "        y_pred = np.array([])\n",
    "        for tree in self.estimators:\n",
    "            update_pred = tree.predict(X)\n",
    "            y_pred = np.append(y_pred, update_pred)\n",
    "        y_pred = np.reshape(y_pred, (self.n_estimators, -1))\n",
    "        y_pred = np.sum(y_pred, axis = 0)\n",
    "        return np.sign(y_pred)\n"
   ]
  },
  {
   "cell_type": "code",
   "execution_count": null,
   "metadata": {},
   "outputs": [],
   "source": [
    "def derivativeoftanh(x):\n",
    "    return 1 - np.tanh(x) ** 2\n"
   ]
  }
 ],
 "metadata": {
  "kernelspec": {
   "display_name": "Python 3",
   "language": "python",
   "name": "python3"
  },
  "language_info": {
   "codemirror_mode": {
    "name": "ipython",
    "version": 3
   },
   "file_extension": ".py",
   "mimetype": "text/x-python",
   "name": "python",
   "nbconvert_exporter": "python",
   "pygments_lexer": "ipython3",
   "version": "3.10.4"
  },
  "orig_nbformat": 4,
  "vscode": {
   "interpreter": {
    "hash": "3ad933181bd8a04b432d3370b9dc3b0662ad032c4dfaa4e4f1596c548f763858"
   }
  }
 },
 "nbformat": 4,
 "nbformat_minor": 2
}
