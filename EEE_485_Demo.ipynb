{
  "nbformat": 4,
  "nbformat_minor": 0,
  "metadata": {
    "colab": {
      "provenance": []
    },
    "kernelspec": {
      "name": "python3",
      "display_name": "Python 3"
    },
    "language_info": {
      "name": "python"
    }
  },
  "cells": [
    {
      "cell_type": "code",
      "source": [
        "!rm -r ML"
      ],
      "metadata": {
        "id": "jgOzmp5zRgCX"
      },
      "execution_count": 1,
      "outputs": []
    },
    {
      "cell_type": "code",
      "execution_count": 2,
      "metadata": {
        "colab": {
          "base_uri": "https://localhost:8080/"
        },
        "id": "zgib7aqKFc-m",
        "outputId": "0cd88701-8487-49c5-d7a4-ecd7c2eba157"
      },
      "outputs": [
        {
          "output_type": "stream",
          "name": "stdout",
          "text": [
            "Cloning into 'ML'...\n",
            "remote: Enumerating objects: 268, done.\u001b[K\n",
            "remote: Counting objects:   0% (1/105)\u001b[K\rremote: Counting objects:   1% (2/105)\u001b[K\rremote: Counting objects:   2% (3/105)\u001b[K\rremote: Counting objects:   3% (4/105)\u001b[K\rremote: Counting objects:   4% (5/105)\u001b[K\rremote: Counting objects:   5% (6/105)\u001b[K\rremote: Counting objects:   6% (7/105)\u001b[K\rremote: Counting objects:   7% (8/105)\u001b[K\rremote: Counting objects:   8% (9/105)\u001b[K\rremote: Counting objects:   9% (10/105)\u001b[K\rremote: Counting objects:  10% (11/105)\u001b[K\rremote: Counting objects:  11% (12/105)\u001b[K\rremote: Counting objects:  12% (13/105)\u001b[K\rremote: Counting objects:  13% (14/105)\u001b[K\rremote: Counting objects:  14% (15/105)\u001b[K\rremote: Counting objects:  15% (16/105)\u001b[K\rremote: Counting objects:  16% (17/105)\u001b[K\rremote: Counting objects:  17% (18/105)\u001b[K\rremote: Counting objects:  18% (19/105)\u001b[K\rremote: Counting objects:  19% (20/105)\u001b[K\rremote: Counting objects:  20% (21/105)\u001b[K\rremote: Counting objects:  21% (23/105)\u001b[K\rremote: Counting objects:  22% (24/105)\u001b[K\rremote: Counting objects:  23% (25/105)\u001b[K\rremote: Counting objects:  24% (26/105)\u001b[K\rremote: Counting objects:  25% (27/105)\u001b[K\rremote: Counting objects:  26% (28/105)\u001b[K\rremote: Counting objects:  27% (29/105)\u001b[K\rremote: Counting objects:  28% (30/105)\u001b[K\rremote: Counting objects:  29% (31/105)\u001b[K\rremote: Counting objects:  30% (32/105)\u001b[K\rremote: Counting objects:  31% (33/105)\u001b[K\rremote: Counting objects:  32% (34/105)\u001b[K\rremote: Counting objects:  33% (35/105)\u001b[K\rremote: Counting objects:  34% (36/105)\u001b[K\rremote: Counting objects:  35% (37/105)\u001b[K\rremote: Counting objects:  36% (38/105)\u001b[K\rremote: Counting objects:  37% (39/105)\u001b[K\rremote: Counting objects:  38% (40/105)\u001b[K\rremote: Counting objects:  39% (41/105)\u001b[K\rremote: Counting objects:  40% (42/105)\u001b[K\rremote: Counting objects:  41% (44/105)\u001b[K\rremote: Counting objects:  42% (45/105)\u001b[K\rremote: Counting objects:  43% (46/105)\u001b[K\rremote: Counting objects:  44% (47/105)\u001b[K\rremote: Counting objects:  45% (48/105)\u001b[K\rremote: Counting objects:  46% (49/105)\u001b[K\rremote: Counting objects:  47% (50/105)\u001b[K\rremote: Counting objects:  48% (51/105)\u001b[K\rremote: Counting objects:  49% (52/105)\u001b[K\rremote: Counting objects:  50% (53/105)\u001b[K\rremote: Counting objects:  51% (54/105)\u001b[K\rremote: Counting objects:  52% (55/105)\u001b[K\rremote: Counting objects:  53% (56/105)\u001b[K\rremote: Counting objects:  54% (57/105)\u001b[K\rremote: Counting objects:  55% (58/105)\u001b[K\rremote: Counting objects:  56% (59/105)\u001b[K\rremote: Counting objects:  57% (60/105)\u001b[K\rremote: Counting objects:  58% (61/105)\u001b[K\rremote: Counting objects:  59% (62/105)\u001b[K\rremote: Counting objects:  60% (63/105)\u001b[K\rremote: Counting objects:  61% (65/105)\u001b[K\rremote: Counting objects:  62% (66/105)\u001b[K\rremote: Counting objects:  63% (67/105)\u001b[K\rremote: Counting objects:  64% (68/105)\u001b[K\rremote: Counting objects:  65% (69/105)\u001b[K\rremote: Counting objects:  66% (70/105)\u001b[K\rremote: Counting objects:  67% (71/105)\u001b[K\rremote: Counting objects:  68% (72/105)\u001b[K\rremote: Counting objects:  69% (73/105)\u001b[K\rremote: Counting objects:  70% (74/105)\u001b[K\rremote: Counting objects:  71% (75/105)\u001b[K\rremote: Counting objects:  72% (76/105)\u001b[K\rremote: Counting objects:  73% (77/105)\u001b[K\rremote: Counting objects:  74% (78/105)\u001b[K\rremote: Counting objects:  75% (79/105)\u001b[K\rremote: Counting objects:  76% (80/105)\u001b[K\rremote: Counting objects:  77% (81/105)\u001b[K\rremote: Counting objects:  78% (82/105)\u001b[K\rremote: Counting objects:  79% (83/105)\u001b[K\rremote: Counting objects:  80% (84/105)\u001b[K\rremote: Counting objects:  81% (86/105)\u001b[K\rremote: Counting objects:  82% (87/105)\u001b[K\rremote: Counting objects:  83% (88/105)\u001b[K\rremote: Counting objects:  84% (89/105)\u001b[K\rremote: Counting objects:  85% (90/105)\u001b[K\rremote: Counting objects:  86% (91/105)\u001b[K\rremote: Counting objects:  87% (92/105)\u001b[K\rremote: Counting objects:  88% (93/105)\u001b[K\rremote: Counting objects:  89% (94/105)\u001b[K\rremote: Counting objects:  90% (95/105)\u001b[K\rremote: Counting objects:  91% (96/105)\u001b[K\rremote: Counting objects:  92% (97/105)\u001b[K\rremote: Counting objects:  93% (98/105)\u001b[K\rremote: Counting objects:  94% (99/105)\u001b[K\rremote: Counting objects:  95% (100/105)\u001b[K\rremote: Counting objects:  96% (101/105)\u001b[K\rremote: Counting objects:  97% (102/105)\u001b[K\rremote: Counting objects:  98% (103/105)\u001b[K\rremote: Counting objects:  99% (104/105)\u001b[K\rremote: Counting objects: 100% (105/105)\u001b[K\rremote: Counting objects: 100% (105/105), done.\u001b[K\n",
            "remote: Compressing objects: 100% (105/105), done.\u001b[K\n",
            "remote: Total 268 (delta 49), reused 0 (delta 0), pack-reused 163\u001b[K\n",
            "Receiving objects: 100% (268/268), 6.09 MiB | 26.74 MiB/s, done.\n",
            "Resolving deltas: 100% (116/116), done.\n"
          ]
        }
      ],
      "source": [
        "!git clone https://github.com/fuat-arslan/ML.git"
      ]
    },
    {
      "cell_type": "code",
      "source": [
        "#!pip install https://github.com/pandas-profiling/pandas-profiling/archive/master.zip"
      ],
      "metadata": {
        "id": "XmAJn5nMGMiU"
      },
      "execution_count": 3,
      "outputs": []
    },
    {
      "cell_type": "code",
      "source": [
        "import numpy as np\n",
        "import pandas as pd\n",
        "import seaborn as sns\n",
        "import math\n",
        "import matplotlib.pyplot as plt\n",
        "import pandas_profiling \n",
        "from pandas_profiling import ProfileReport"
      ],
      "metadata": {
        "id": "sjc3WSyvFsJ5"
      },
      "execution_count": 4,
      "outputs": []
    },
    {
      "cell_type": "code",
      "source": [
        "data = pd.read_csv(\"/content/ML/raw_data/archive/sdss-IV-dr16-70k.csv\")"
      ],
      "metadata": {
        "id": "Ejs3t8cqGH6_"
      },
      "execution_count": 5,
      "outputs": []
    },
    {
      "cell_type": "code",
      "source": [
        "# profile = ProfileReport(data)\n",
        "# profile"
      ],
      "metadata": {
        "id": "SC47wqWqGf5V"
      },
      "execution_count": 6,
      "outputs": []
    },
    {
      "cell_type": "markdown",
      "source": [
        "# PREPROCESSING"
      ],
      "metadata": {
        "id": "5gNF9fuFH6Ws"
      }
    },
    {
      "cell_type": "code",
      "source": [
        "%cd ML"
      ],
      "metadata": {
        "colab": {
          "base_uri": "https://localhost:8080/"
        },
        "id": "Exx3WFwhJbcn",
        "outputId": "8e257625-df00-4db3-e0c5-df22bcfe971f"
      },
      "execution_count": 7,
      "outputs": [
        {
          "output_type": "stream",
          "name": "stdout",
          "text": [
            "/content/ML\n"
          ]
        }
      ]
    },
    {
      "cell_type": "code",
      "source": [
        "from Preprocess.Preprocess import pd_np_Converter, OutlierRemoval, MinMax, Encoder\n",
        "from Preprocess.Feauture_Engineering import PCA"
      ],
      "metadata": {
        "id": "EQjnxcRAJLLS"
      },
      "execution_count": 8,
      "outputs": []
    },
    {
      "cell_type": "code",
      "source": [
        "# rerun is constant, objid is not a feature\n",
        "data = data.drop(columns=[\"rerun\", \"objid\"])\n",
        "# move class to end of data\n",
        "label = data.pop(\"class\")\n",
        "data[\"class\"] = label\n",
        "data.head()"
      ],
      "metadata": {
        "colab": {
          "base_uri": "https://localhost:8080/",
          "height": 206
        },
        "id": "efiH9f4NGj-7",
        "outputId": "ed380f99-9f72-45c9-d624-f6ba192b6c11"
      },
      "execution_count": 9,
      "outputs": [
        {
          "output_type": "execute_result",
          "data": {
            "text/plain": [
              "          ra       dec  psfMag_u  psfMag_g  psfMag_r  psfMag_i  psfMag_z  \\\n",
              "0  339.63895 -0.025366  24.16277  22.12683  20.49114  19.84393  19.39186   \n",
              "1  339.14540 -1.176621  24.14103  25.11438  21.40677  19.78998  22.82654   \n",
              "2  339.09143 -1.226396  22.52415  21.39598  20.74594  20.26970  19.80169   \n",
              "3  339.18984 -1.083550  18.44084  17.32474  16.90879  16.75017  16.68101   \n",
              "4  339.21747 -1.248835  19.55987  19.37768  19.28220  19.27481  19.10290   \n",
              "\n",
              "    run  camcol  field  redshift  plate    mjd  fiberid   class  \n",
              "0  4207       3    235  0.330663    674  52201      119  GALAXY  \n",
              "1  3388       1    180 -0.000051    674  52201      121    STAR  \n",
              "2  3388       1    180  0.185197    674  52201      122  GALAXY  \n",
              "3  3388       1    180 -0.000061    674  52201      123    STAR  \n",
              "4  3388       1    181  0.863151    674  52201      124     QSO  "
            ],
            "text/html": [
              "\n",
              "  <div id=\"df-dcd1185b-20fd-4e17-8f63-2ac272e0f80f\">\n",
              "    <div class=\"colab-df-container\">\n",
              "      <div>\n",
              "<style scoped>\n",
              "    .dataframe tbody tr th:only-of-type {\n",
              "        vertical-align: middle;\n",
              "    }\n",
              "\n",
              "    .dataframe tbody tr th {\n",
              "        vertical-align: top;\n",
              "    }\n",
              "\n",
              "    .dataframe thead th {\n",
              "        text-align: right;\n",
              "    }\n",
              "</style>\n",
              "<table border=\"1\" class=\"dataframe\">\n",
              "  <thead>\n",
              "    <tr style=\"text-align: right;\">\n",
              "      <th></th>\n",
              "      <th>ra</th>\n",
              "      <th>dec</th>\n",
              "      <th>psfMag_u</th>\n",
              "      <th>psfMag_g</th>\n",
              "      <th>psfMag_r</th>\n",
              "      <th>psfMag_i</th>\n",
              "      <th>psfMag_z</th>\n",
              "      <th>run</th>\n",
              "      <th>camcol</th>\n",
              "      <th>field</th>\n",
              "      <th>redshift</th>\n",
              "      <th>plate</th>\n",
              "      <th>mjd</th>\n",
              "      <th>fiberid</th>\n",
              "      <th>class</th>\n",
              "    </tr>\n",
              "  </thead>\n",
              "  <tbody>\n",
              "    <tr>\n",
              "      <th>0</th>\n",
              "      <td>339.63895</td>\n",
              "      <td>-0.025366</td>\n",
              "      <td>24.16277</td>\n",
              "      <td>22.12683</td>\n",
              "      <td>20.49114</td>\n",
              "      <td>19.84393</td>\n",
              "      <td>19.39186</td>\n",
              "      <td>4207</td>\n",
              "      <td>3</td>\n",
              "      <td>235</td>\n",
              "      <td>0.330663</td>\n",
              "      <td>674</td>\n",
              "      <td>52201</td>\n",
              "      <td>119</td>\n",
              "      <td>GALAXY</td>\n",
              "    </tr>\n",
              "    <tr>\n",
              "      <th>1</th>\n",
              "      <td>339.14540</td>\n",
              "      <td>-1.176621</td>\n",
              "      <td>24.14103</td>\n",
              "      <td>25.11438</td>\n",
              "      <td>21.40677</td>\n",
              "      <td>19.78998</td>\n",
              "      <td>22.82654</td>\n",
              "      <td>3388</td>\n",
              "      <td>1</td>\n",
              "      <td>180</td>\n",
              "      <td>-0.000051</td>\n",
              "      <td>674</td>\n",
              "      <td>52201</td>\n",
              "      <td>121</td>\n",
              "      <td>STAR</td>\n",
              "    </tr>\n",
              "    <tr>\n",
              "      <th>2</th>\n",
              "      <td>339.09143</td>\n",
              "      <td>-1.226396</td>\n",
              "      <td>22.52415</td>\n",
              "      <td>21.39598</td>\n",
              "      <td>20.74594</td>\n",
              "      <td>20.26970</td>\n",
              "      <td>19.80169</td>\n",
              "      <td>3388</td>\n",
              "      <td>1</td>\n",
              "      <td>180</td>\n",
              "      <td>0.185197</td>\n",
              "      <td>674</td>\n",
              "      <td>52201</td>\n",
              "      <td>122</td>\n",
              "      <td>GALAXY</td>\n",
              "    </tr>\n",
              "    <tr>\n",
              "      <th>3</th>\n",
              "      <td>339.18984</td>\n",
              "      <td>-1.083550</td>\n",
              "      <td>18.44084</td>\n",
              "      <td>17.32474</td>\n",
              "      <td>16.90879</td>\n",
              "      <td>16.75017</td>\n",
              "      <td>16.68101</td>\n",
              "      <td>3388</td>\n",
              "      <td>1</td>\n",
              "      <td>180</td>\n",
              "      <td>-0.000061</td>\n",
              "      <td>674</td>\n",
              "      <td>52201</td>\n",
              "      <td>123</td>\n",
              "      <td>STAR</td>\n",
              "    </tr>\n",
              "    <tr>\n",
              "      <th>4</th>\n",
              "      <td>339.21747</td>\n",
              "      <td>-1.248835</td>\n",
              "      <td>19.55987</td>\n",
              "      <td>19.37768</td>\n",
              "      <td>19.28220</td>\n",
              "      <td>19.27481</td>\n",
              "      <td>19.10290</td>\n",
              "      <td>3388</td>\n",
              "      <td>1</td>\n",
              "      <td>181</td>\n",
              "      <td>0.863151</td>\n",
              "      <td>674</td>\n",
              "      <td>52201</td>\n",
              "      <td>124</td>\n",
              "      <td>QSO</td>\n",
              "    </tr>\n",
              "  </tbody>\n",
              "</table>\n",
              "</div>\n",
              "      <button class=\"colab-df-convert\" onclick=\"convertToInteractive('df-dcd1185b-20fd-4e17-8f63-2ac272e0f80f')\"\n",
              "              title=\"Convert this dataframe to an interactive table.\"\n",
              "              style=\"display:none;\">\n",
              "        \n",
              "  <svg xmlns=\"http://www.w3.org/2000/svg\" height=\"24px\"viewBox=\"0 0 24 24\"\n",
              "       width=\"24px\">\n",
              "    <path d=\"M0 0h24v24H0V0z\" fill=\"none\"/>\n",
              "    <path d=\"M18.56 5.44l.94 2.06.94-2.06 2.06-.94-2.06-.94-.94-2.06-.94 2.06-2.06.94zm-11 1L8.5 8.5l.94-2.06 2.06-.94-2.06-.94L8.5 2.5l-.94 2.06-2.06.94zm10 10l.94 2.06.94-2.06 2.06-.94-2.06-.94-.94-2.06-.94 2.06-2.06.94z\"/><path d=\"M17.41 7.96l-1.37-1.37c-.4-.4-.92-.59-1.43-.59-.52 0-1.04.2-1.43.59L10.3 9.45l-7.72 7.72c-.78.78-.78 2.05 0 2.83L4 21.41c.39.39.9.59 1.41.59.51 0 1.02-.2 1.41-.59l7.78-7.78 2.81-2.81c.8-.78.8-2.07 0-2.86zM5.41 20L4 18.59l7.72-7.72 1.47 1.35L5.41 20z\"/>\n",
              "  </svg>\n",
              "      </button>\n",
              "      \n",
              "  <style>\n",
              "    .colab-df-container {\n",
              "      display:flex;\n",
              "      flex-wrap:wrap;\n",
              "      gap: 12px;\n",
              "    }\n",
              "\n",
              "    .colab-df-convert {\n",
              "      background-color: #E8F0FE;\n",
              "      border: none;\n",
              "      border-radius: 50%;\n",
              "      cursor: pointer;\n",
              "      display: none;\n",
              "      fill: #1967D2;\n",
              "      height: 32px;\n",
              "      padding: 0 0 0 0;\n",
              "      width: 32px;\n",
              "    }\n",
              "\n",
              "    .colab-df-convert:hover {\n",
              "      background-color: #E2EBFA;\n",
              "      box-shadow: 0px 1px 2px rgba(60, 64, 67, 0.3), 0px 1px 3px 1px rgba(60, 64, 67, 0.15);\n",
              "      fill: #174EA6;\n",
              "    }\n",
              "\n",
              "    [theme=dark] .colab-df-convert {\n",
              "      background-color: #3B4455;\n",
              "      fill: #D2E3FC;\n",
              "    }\n",
              "\n",
              "    [theme=dark] .colab-df-convert:hover {\n",
              "      background-color: #434B5C;\n",
              "      box-shadow: 0px 1px 3px 1px rgba(0, 0, 0, 0.15);\n",
              "      filter: drop-shadow(0px 1px 2px rgba(0, 0, 0, 0.3));\n",
              "      fill: #FFFFFF;\n",
              "    }\n",
              "  </style>\n",
              "\n",
              "      <script>\n",
              "        const buttonEl =\n",
              "          document.querySelector('#df-dcd1185b-20fd-4e17-8f63-2ac272e0f80f button.colab-df-convert');\n",
              "        buttonEl.style.display =\n",
              "          google.colab.kernel.accessAllowed ? 'block' : 'none';\n",
              "\n",
              "        async function convertToInteractive(key) {\n",
              "          const element = document.querySelector('#df-dcd1185b-20fd-4e17-8f63-2ac272e0f80f');\n",
              "          const dataTable =\n",
              "            await google.colab.kernel.invokeFunction('convertToInteractive',\n",
              "                                                     [key], {});\n",
              "          if (!dataTable) return;\n",
              "\n",
              "          const docLinkHtml = 'Like what you see? Visit the ' +\n",
              "            '<a target=\"_blank\" href=https://colab.research.google.com/notebooks/data_table.ipynb>data table notebook</a>'\n",
              "            + ' to learn more about interactive tables.';\n",
              "          element.innerHTML = '';\n",
              "          dataTable['output_type'] = 'display_data';\n",
              "          await google.colab.output.renderOutput(dataTable, element);\n",
              "          const docLink = document.createElement('div');\n",
              "          docLink.innerHTML = docLinkHtml;\n",
              "          element.appendChild(docLink);\n",
              "        }\n",
              "      </script>\n",
              "    </div>\n",
              "  </div>\n",
              "  "
            ]
          },
          "metadata": {},
          "execution_count": 9
        }
      ]
    },
    {
      "cell_type": "code",
      "source": [
        "# convert data to numpy \n",
        "converter = pd_np_Converter(data)\n",
        "data_np = converter.to_nup()\n",
        "X = data_np[:, :-1].astype(float)\n",
        "Y = data_np[:, -1].reshape(-1,1)\n",
        "X, Y"
      ],
      "metadata": {
        "colab": {
          "base_uri": "https://localhost:8080/"
        },
        "id": "c_sUcNzFIajL",
        "outputId": "119522c4-4467-4c74-8185-1e5d9de6629b"
      },
      "execution_count": 10,
      "outputs": [
        {
          "output_type": "execute_result",
          "data": {
            "text/plain": [
              "(array([[ 3.3963895e+02, -2.5366490e-02,  2.4162770e+01, ...,\n",
              "          6.7400000e+02,  5.2201000e+04,  1.1900000e+02],\n",
              "        [ 3.3914540e+02, -1.1766212e+00,  2.4141030e+01, ...,\n",
              "          6.7400000e+02,  5.2201000e+04,  1.2100000e+02],\n",
              "        [ 3.3909143e+02, -1.2263956e+00,  2.2524150e+01, ...,\n",
              "          6.7400000e+02,  5.2201000e+04,  1.2200000e+02],\n",
              "        ...,\n",
              "        [ 2.3794580e+02, -1.0211284e+00,  2.3042780e+01, ...,\n",
              "          3.4300000e+02,  5.1692000e+04,  2.8600000e+02],\n",
              "        [ 2.3795178e+02, -1.0445313e+00,  2.1985720e+01, ...,\n",
              "          3.4300000e+02,  5.1692000e+04,  2.8700000e+02],\n",
              "        [ 2.3802744e+02, -8.9427257e-01,  1.9447550e+01, ...,\n",
              "          3.4300000e+02,  5.1692000e+04,  2.8800000e+02]]), array([['GALAXY'],\n",
              "        ['STAR'],\n",
              "        ['GALAXY'],\n",
              "        ...,\n",
              "        ['GALAXY'],\n",
              "        ['GALAXY'],\n",
              "        ['QSO']], dtype=object))"
            ]
          },
          "metadata": {},
          "execution_count": 10
        }
      ]
    },
    {
      "cell_type": "code",
      "source": [
        "# then apply outlier removal and standard normalized\n",
        "OutRemove = OutlierRemoval(X, Y, 3) # 3 denotes threshold value\n",
        "X_clean, Y_clean = OutRemove.fast()\n",
        "X_clean.shape, Y_clean.shape"
      ],
      "metadata": {
        "colab": {
          "base_uri": "https://localhost:8080/"
        },
        "id": "bCMaUH9xJy8r",
        "outputId": "9a4cb3de-141d-40f5-9309-6867fb474fc1"
      },
      "execution_count": 11,
      "outputs": [
        {
          "output_type": "execute_result",
          "data": {
            "text/plain": [
              "((66329, 14), (66329, 1))"
            ]
          },
          "metadata": {},
          "execution_count": 11
        }
      ]
    },
    {
      "cell_type": "code",
      "source": [
        "# since psf_Mag's are highly linearly correlated, they are decorrelated using PCA\n",
        "# we are not decreasing the dimension!!\n",
        "pca = PCA()\n",
        "decorrelated_psf = pca.fast(X_clean[:, 2:7], 5)\n",
        "decorrelated_psf"
      ],
      "metadata": {
        "colab": {
          "base_uri": "https://localhost:8080/"
        },
        "id": "rMiCGqL0KtTm",
        "outputId": "77a8a7bf-7f8d-4ce0-a533-0e13b3a55bc0"
      },
      "execution_count": 12,
      "outputs": [
        {
          "output_type": "execute_result",
          "data": {
            "text/plain": [
              "array([[-0.01095209, -0.00501874, -0.00076389, -0.00051687, -0.00017521],\n",
              "       [-0.02288711, -0.00089556,  0.00095841, -0.01047953,  0.00600617],\n",
              "       [-0.00901848,  0.00166024, -0.00029926,  0.00044585, -0.00022209],\n",
              "       ...,\n",
              "       [-0.00487142, -0.00426251,  0.00098315, -0.00143684, -0.00023805],\n",
              "       [ 0.00376348, -0.00290885, -0.00032283,  0.00010291, -0.00011273],\n",
              "       [ 0.0110536 ,  0.00388839,  0.00174748, -0.00012445, -0.00072617]])"
            ]
          },
          "metadata": {},
          "execution_count": 12
        }
      ]
    },
    {
      "cell_type": "code",
      "source": [
        "# map decorrleted_psf to -3,3\n",
        "mapper = MinMax(low = -3, high = 3)\n",
        "psf = mapper.fast(decorrelated_psf)\n",
        "psf"
      ],
      "metadata": {
        "colab": {
          "base_uri": "https://localhost:8080/"
        },
        "id": "OOcol7WXNZe3",
        "outputId": "6737a63e-c078-46f7-cc07-158657b6b4e1"
      },
      "execution_count": 13,
      "outputs": [
        {
          "output_type": "execute_result",
          "data": {
            "text/plain": [
              "array([[-1.00659912, -0.44134628, -0.67973026,  0.03733094, -0.39212334],\n",
              "       [-1.74732434,  0.02172388, -0.43924667, -1.29560489,  0.30016497],\n",
              "       [-0.8865931 ,  0.30876363, -0.6148543 ,  0.16613592, -0.39737398],\n",
              "       ...,\n",
              "       [-0.6292132 , -0.35641448, -0.43579097, -0.08575483, -0.39916092],\n",
              "       [-0.09330395, -0.20438616, -0.61814465,  0.12025261, -0.38512614],\n",
              "       [ 0.35914438,  0.55900553, -0.32906811,  0.08983296, -0.4538284 ]])"
            ]
          },
          "metadata": {},
          "execution_count": 13
        }
      ]
    },
    {
      "cell_type": "code",
      "source": [
        "# change old values by new decorrelated values\n",
        "X_clean[:, 2:7] = psf"
      ],
      "metadata": {
        "id": "lXv3xzYJTHaz"
      },
      "execution_count": 14,
      "outputs": []
    },
    {
      "cell_type": "code",
      "source": [
        "# label encoder\n",
        "encode = Encoder()\n",
        "Y = encode.fast(Y_clean)\n",
        "Y"
      ],
      "metadata": {
        "colab": {
          "base_uri": "https://localhost:8080/"
        },
        "id": "3L_lle-HTYVk",
        "outputId": "00171a60-78fa-4005-9c57-403a3454a3f6"
      },
      "execution_count": 15,
      "outputs": [
        {
          "output_type": "execute_result",
          "data": {
            "text/plain": [
              "array([[1, 0, 0],\n",
              "       [0, 0, 1],\n",
              "       [1, 0, 0],\n",
              "       ...,\n",
              "       [1, 0, 0],\n",
              "       [1, 0, 0],\n",
              "       [0, 1, 0]])"
            ]
          },
          "metadata": {},
          "execution_count": 15
        }
      ]
    },
    {
      "cell_type": "markdown",
      "source": [
        "# Neural Network Model"
      ],
      "metadata": {
        "id": "ZFWklVjzUmC6"
      }
    },
    {
      "cell_type": "code",
      "source": [
        "from Models.NeuralNetwork.Layers import Dense\n",
        "from Models.NeuralNetwork.Optimizer import Optimizer\n",
        "from Models.NeuralNetwork.Trainer import NeuralNetwork\n",
        "from Metrics.Metrics import Evaluator, kFold"
      ],
      "metadata": {
        "id": "vukQ8BXpUwNz"
      },
      "execution_count": 16,
      "outputs": []
    },
    {
      "cell_type": "code",
      "source": [
        "# L Layer Neural Network Build\n",
        "layers = [Dense(14, 32), Dense(32, 8), Dense(8, 3, activation = \"softmax\")]\n",
        "model_NN = NeuralNetwork(layers, \"CrossEntopy\")\n",
        "adam = Optimizer(\"adam\", 0.01, None, 0.9, 0.99)\n",
        "\n",
        "model_NN.learn(X_clean, Y, optimizer = adam, max_epoch = 60, batch_size = 64)"
      ],
      "metadata": {
        "colab": {
          "base_uri": "https://localhost:8080/",
          "height": 399
        },
        "id": "Y3Mn5TJrURpV",
        "outputId": "63e6b2cb-cb94-4592-ba11-441cbb40c472"
      },
      "execution_count": 18,
      "outputs": [
        {
          "output_type": "stream",
          "name": "stdout",
          "text": [
            "Cost after epoch 0: 0.170402\n",
            "Cost after epoch 10: 0.084535\n",
            "Cost after epoch 20: 0.077402\n",
            "Cost after epoch 30: 0.074975\n",
            "Cost after epoch 40: 0.073297\n",
            "Cost after epoch 50: 0.070538\n"
          ]
        },
        {
          "output_type": "display_data",
          "data": {
            "text/plain": [
              "<Figure size 432x288 with 1 Axes>"
            ],
            "image/png": "[encoded data removed]"
          },
          "metadata": {
            "needs_background": "light"
          }
        }
      ]
    },
    {
      "cell_type": "code",
      "source": [
        "# predict, acc, confusion_matrix calculate\n",
        "soft_out = model_NN.predict(X_clean)\n",
        "pred = np.argmax(soft_out, axis = 0)\n",
        "true_label = np.argmax(Y, axis = 1)\n",
        "label_dict = {\"Galaxy\": 0, \"QSO\": 1, \"Stars\": 2}\n",
        "score = Evaluator(pred, true_label, label_dict)\n",
        "score.scores()"
      ],
      "metadata": {
        "colab": {
          "base_uri": "https://localhost:8080/",
          "height": 676
        },
        "id": "mRlj-ZGjU7Pr",
        "outputId": "04fcd9f4-40ec-4502-9785-2518b8d597ad"
      },
      "execution_count": 19,
      "outputs": [
        {
          "output_type": "stream",
          "name": "stdout",
          "text": [
            "Accuracy:  0.98\n"
          ]
        },
        {
          "output_type": "execute_result",
          "data": {
            "text/plain": [
              "(0.9769180901264907, array([[0.99187042, 0.97712942, 0.98444474],\n",
              "        [0.85382685, 0.95219216, 0.90033076],\n",
              "        [0.96627826, 0.98443396, 0.97527162]]))"
            ]
          },
          "metadata": {},
          "execution_count": 19
        },
        {
          "output_type": "display_data",
          "data": {
            "text/plain": [
              "<Figure size 720x720 with 2 Axes>"
            ],
            "image/png": "[encoded data removed]"
          },
          "metadata": {
            "needs_background": "light"
          }
        }
      ]
    },
    {
      "cell_type": "code",
      "source": [
        "cv = kFold()\n",
        "\n",
        "structure = [Dense(14, 32), Dense(32, 8), Dense(8, 3, activation = \"softmax\")]\n",
        "cv_NN = NeuralNetwork(structure, \"CrossEntopy\")\n",
        "adam = Optimizer(\"adam\", 0.01, None, 0.9, 0.99)\n",
        "\n",
        "cv_eval = cv.eval(cv_NN, X_clean, Y, \"CrossEntropy\", 3, adam, 50, 64)"
      ],
      "metadata": {
        "colab": {
          "base_uri": "https://localhost:8080/",
          "height": 729
        },
        "id": "WQ4IsKm7Zfke",
        "outputId": "b494220c-63cd-4df6-d777-733b02cf5ea3"
      },
      "execution_count": 20,
      "outputs": [
        {
          "output_type": "stream",
          "name": "stdout",
          "text": [
            "Cost after epoch 0: 0.184766\n",
            "Cost after epoch 10: 0.091209\n",
            "Cost after epoch 20: 0.080477\n",
            "Cost after epoch 30: 0.076698\n",
            "Cost after epoch 40: 0.073706\n",
            "Accuracy of fold 1 : % 97.7566\n",
            "\n",
            "\n",
            "Cost after epoch 0: 0.187106\n",
            "Cost after epoch 10: 0.089957\n",
            "Cost after epoch 20: 0.081723\n",
            "Cost after epoch 30: 0.077039\n",
            "Cost after epoch 40: 0.074876\n",
            "Accuracy of fold 2 : % 97.6932\n",
            "\n",
            "\n",
            "Cost after epoch 0: 0.176011\n",
            "Cost after epoch 10: 0.084098\n",
            "Cost after epoch 20: 0.076863\n",
            "Cost after epoch 30: 0.073361\n",
            "Cost after epoch 40: 0.071744\n",
            "Accuracy of fold 3 : % 97.2817\n",
            "\n",
            "\n",
            "Average loss: 0.0872\n"
          ]
        },
        {
          "output_type": "display_data",
          "data": {
            "text/plain": [
              "<Figure size 432x288 with 1 Axes>"
            ],
            "image/png": "[encoded data removed]"
          },
          "metadata": {
            "needs_background": "light"
          }
        }
      ]
    },
    {
      "cell_type": "code",
      "source": [
        "from Preprocess.Feauture_Engineering import BackwardElimination"
      ],
      "metadata": {
        "id": "kSoq94KUlZ_G"
      },
      "execution_count": 17,
      "outputs": []
    },
    {
      "cell_type": "code",
      "source": [
        "build = [Dense(14, 32), Dense(32, 8), Dense(8, 3, activation = \"softmax\")]\n",
        "model_nn = NeuralNetwork(build, \"CrossEntopy\")\n",
        "adam = Optimizer(\"adam\", 0.01, None, 0.9, 0.99)"
      ],
      "metadata": {
        "id": "D4oD3ExeljJs"
      },
      "execution_count": 18,
      "outputs": []
    },
    {
      "cell_type": "code",
      "source": [
        "Backward = BackwardElimination(3, 0, model_nn, converter.columns)\n",
        "eliminated_data = Backward.fast(X_clean, Y, adam, 30, 64)"
      ],
      "metadata": {
        "colab": {
          "base_uri": "https://localhost:8080/",
          "height": 1000
        },
        "id": "XoGU39JMlVWv",
        "outputId": "57bf2cb5-8114-447e-8a05-c62a1696971c"
      },
      "execution_count": 19,
      "outputs": [
        {
          "output_type": "stream",
          "name": "stdout",
          "text": [
            "Cost after epoch 0: 0.194737\n",
            "Cost after epoch 10: 0.086541\n",
            "Cost after epoch 20: 0.079501\n",
            "\n",
            " Accuracy  : % 97.8592\n",
            "\n",
            " The feature of ra is removed\n",
            "Cost after epoch 0: 0.670193\n",
            "Cost after epoch 10: 0.437970\n",
            "Cost after epoch 20: 0.428230\n",
            "\n",
            " Accuracy  : % 97.829\n",
            "\n",
            "\n",
            "\n",
            " The feature of dec is removed\n",
            "Cost after epoch 0: 0.523256\n",
            "Cost after epoch 10: 0.352124\n",
            "Cost after epoch 20: 0.369337\n",
            "\n",
            " Accuracy  : % 97.9149\n",
            "\n",
            "\n",
            "\n",
            " The feature of psfMag_u is removed\n",
            "Cost after epoch 0: 0.668199\n",
            "Cost after epoch 10: 0.585461\n",
            "Cost after epoch 20: 0.527105\n",
            "\n",
            " Accuracy  : % 97.1415\n",
            "\n",
            "\n",
            "\n",
            " The feature of psfMag_g is removed\n",
            "Cost after epoch 0: 1.153405\n",
            "Cost after epoch 10: 0.525836\n",
            "Cost after epoch 20: 0.512217\n",
            "\n",
            " Accuracy  : % 97.532\n",
            "\n",
            "\n",
            "\n",
            " The feature of psfMag_r is removed\n",
            "Cost after epoch 0: 7.227977\n",
            "Cost after epoch 10: 7.216693\n",
            "Cost after epoch 20: 7.180912\n",
            "\n",
            " Accuracy  : % 78.9398\n",
            "\n",
            "\n",
            "\n",
            " The feature of psfMag_i is removed\n",
            "Cost after epoch 0: 0.634722\n",
            "Cost after epoch 10: 0.407741\n",
            "Cost after epoch 20: 0.385286\n",
            "\n",
            " Accuracy  : % 97.8652\n",
            "\n",
            "\n",
            "\n",
            " The feature of psfMag_z is removed\n",
            "Cost after epoch 0: 0.719228\n",
            "Cost after epoch 10: 0.518859\n",
            "Cost after epoch 20: 0.489469\n",
            "\n",
            " Accuracy  : % 97.9526\n",
            "\n",
            "\n",
            "\n",
            " The feature of run is removed\n",
            "Cost after epoch 0: 0.999544\n",
            "Cost after epoch 10: 0.510998\n",
            "Cost after epoch 20: 0.500659\n",
            "\n",
            " Accuracy  : % 97.8169\n",
            "\n",
            "\n",
            "\n",
            " The feature of camcol is removed\n",
            "Cost after epoch 0: 27.887319\n",
            "Cost after epoch 10: 27.842181\n",
            "Cost after epoch 20: 27.820109\n",
            "\n",
            " Accuracy  : % 91.9643\n",
            "\n",
            "\n",
            "\n",
            " The feature of field is removed\n",
            "Cost after epoch 0: 27.954630\n",
            "Cost after epoch 10: 27.864377\n",
            "Cost after epoch 20: 27.818944\n",
            "\n",
            " Accuracy  : % 91.4261\n",
            "\n",
            "\n",
            "\n",
            " The feature of redshift is removed\n",
            "Cost after epoch 0: 2.149473\n",
            "Cost after epoch 10: 1.160863\n",
            "Cost after epoch 20: 1.055331\n",
            "\n",
            " Accuracy  : % 94.0825\n",
            "\n",
            "\n",
            "\n",
            " The feature of plate is removed\n",
            "Cost after epoch 0: 0.751276\n",
            "Cost after epoch 10: 0.504201\n",
            "Cost after epoch 20: 0.525697\n",
            "\n",
            " Accuracy  : % 97.6782\n",
            "\n",
            "\n",
            "\n",
            " The feature of mjd is removed\n",
            "Cost after epoch 0: 2.843842\n",
            "Cost after epoch 10: 2.732917\n",
            "Cost after epoch 20: 2.715016\n",
            "\n",
            " Accuracy  : % 91.61\n",
            "\n",
            "\n",
            "\n",
            " The feature of fiberid is removed\n",
            "Cost after epoch 0: 0.664620\n",
            "Cost after epoch 10: 0.461979\n",
            "Cost after epoch 20: 0.432152\n",
            "\n",
            " Accuracy  : % 97.8923\n",
            "\n",
            "\n",
            "The column psfMag_z is dropped since accuray increased from 97.8592 to [97.9526]\n",
            "Elapsed time for droping psfMag_z column is 2.0 mins 29.174608945846558 secs\n",
            "Cost after epoch 0: 6.143995\n",
            "Cost after epoch 10: 2.731260\n",
            "Cost after epoch 20: 2.725819\n",
            "\n",
            " Accuracy  : % 92.1739\n",
            "\n",
            " The feature of ra is removed\n",
            "Cost after epoch 0: 0.698355\n",
            "Cost after epoch 10: 0.477191\n",
            "Cost after epoch 20: 0.420429\n",
            "\n",
            " Accuracy  : % 97.8833\n",
            "\n",
            "\n",
            "\n",
            " The feature of dec is removed\n",
            "Cost after epoch 0: 3.080719\n",
            "Cost after epoch 10: 2.595795\n",
            "Cost after epoch 20: 0.279133\n",
            "\n",
            " Accuracy  : % 97.7521\n",
            "\n",
            "\n",
            "\n",
            " The feature of psfMag_u is removed\n",
            "Cost after epoch 0: 0.806533\n",
            "Cost after epoch 10: 0.478350\n",
            "Cost after epoch 20: 0.456750\n",
            "\n",
            " Accuracy  : % 97.6044\n",
            "\n",
            "\n",
            "\n",
            " The feature of psfMag_g is removed\n",
            "Cost after epoch 0: 0.721701\n",
            "Cost after epoch 10: 0.535511\n",
            "Cost after epoch 20: 0.423026\n",
            "\n",
            " Accuracy  : % 97.6828\n",
            "\n",
            "\n",
            "\n",
            " The feature of psfMag_r is removed\n",
            "Cost after epoch 0: 0.746507\n",
            "Cost after epoch 10: 0.455661\n",
            "Cost after epoch 20: 0.433064\n",
            "\n",
            " Accuracy  : % 97.6737\n",
            "\n",
            "\n",
            "\n",
            " The feature of psfMag_i is removed\n",
            "Cost after epoch 0: 1.300305\n",
            "Cost after epoch 10: 0.513267\n",
            "Cost after epoch 20: 0.472200\n",
            "\n",
            " Accuracy  : % 97.8637\n",
            "\n",
            "\n",
            "\n",
            " The feature of psfMag_z is removed\n",
            "Cost after epoch 0: 0.697400\n",
            "Cost after epoch 10: 0.379483\n",
            "Cost after epoch 20: 0.379454\n",
            "\n",
            " Accuracy  : % 97.7838\n",
            "\n",
            "\n",
            "\n",
            " The feature of run is removed\n",
            "Cost after epoch 0: 0.938879\n",
            "Cost after epoch 10: 0.522103\n",
            "Cost after epoch 20: 0.436212\n",
            "\n",
            " Accuracy  : % 97.8727\n",
            "\n",
            "\n",
            "\n",
            " The feature of camcol is removed\n",
            "Cost after epoch 0: 1.806118\n",
            "Cost after epoch 10: 0.526469\n",
            "Cost after epoch 20: 0.471506\n",
            "\n",
            " Accuracy  : % 97.8863\n",
            "\n",
            "\n",
            "\n",
            " The feature of field is removed\n",
            "Cost after epoch 0: 3.374355\n",
            "Cost after epoch 10: 3.347961\n",
            "Cost after epoch 20: 3.317664\n",
            "\n",
            " Accuracy  : % 89.5657\n",
            "\n",
            "\n",
            "\n",
            " The feature of redshift is removed\n",
            "Cost after epoch 0: 0.777380\n",
            "Cost after epoch 10: 0.491199\n",
            "Cost after epoch 20: 0.490735\n",
            "\n",
            " Accuracy  : % 98.0069\n",
            "\n",
            "\n",
            "\n",
            " The feature of plate is removed\n",
            "Cost after epoch 0: 0.620012\n",
            "Cost after epoch 10: 0.475245\n",
            "Cost after epoch 20: 0.439633\n",
            "\n",
            " Accuracy  : % 97.7039\n",
            "\n",
            "\n",
            "\n",
            " The feature of mjd is removed\n",
            "Cost after epoch 0: 0.856292\n",
            "Cost after epoch 10: 0.502720\n",
            "Cost after epoch 20: 0.485946\n",
            "\n",
            " Accuracy  : % 97.8923\n",
            "\n",
            "\n",
            "The column redshift is dropped since accuray increased from 92.1739 to [98.0069]\n",
            "Elapsed time for droping redshift column is 2.0 mins 17.923540830612183 secs\n",
            "Cost after epoch 0: 0.472535\n",
            "Cost after epoch 10: 0.437086\n",
            "Cost after epoch 20: 0.458259\n",
            "\n",
            " Accuracy  : % 97.7491\n",
            "\n",
            " The feature of ra is removed\n",
            "Cost after epoch 0: 2.791289\n",
            "Cost after epoch 10: 2.738264\n",
            "Cost after epoch 20: 2.732197\n",
            "\n",
            " Accuracy  : % 91.9417\n",
            "\n",
            "\n",
            "\n",
            " The feature of dec is removed\n",
            "Cost after epoch 0: 0.622422\n",
            "Cost after epoch 10: 0.510863\n",
            "Cost after epoch 20: 0.451274\n",
            "\n",
            " Accuracy  : % 97.7024\n",
            "\n",
            "\n",
            "\n",
            " The feature of psfMag_u is removed\n",
            "Cost after epoch 0: 0.676946\n",
            "Cost after epoch 10: 0.608384\n",
            "Cost after epoch 20: 0.584608\n",
            "\n",
            " Accuracy  : % 97.4868\n",
            "\n",
            "\n",
            "\n",
            " The feature of psfMag_g is removed\n",
            "Cost after epoch 0: 0.692520\n",
            "Cost after epoch 10: 0.380946\n",
            "Cost after epoch 20: 0.460723\n",
            "\n",
            " Accuracy  : % 97.4611\n",
            "\n",
            "\n",
            "\n",
            " The feature of psfMag_r is removed\n",
            "Cost after epoch 0: 0.607717\n",
            "Cost after epoch 10: 0.421772\n",
            "Cost after epoch 20: 0.415953\n",
            "\n",
            " Accuracy  : % 96.843\n",
            "\n",
            "\n",
            "\n",
            " The feature of psfMag_i is removed\n",
            "Cost after epoch 0: 0.653806\n",
            "Cost after epoch 10: 0.546901\n",
            "Cost after epoch 20: 0.477380\n",
            "\n",
            " Accuracy  : % 97.7943\n",
            "\n",
            "\n",
            "\n",
            " The feature of psfMag_z is removed\n",
            "Cost after epoch 0: 7.275917\n",
            "Cost after epoch 10: 0.432126\n",
            "Cost after epoch 20: 0.413761\n",
            "\n",
            " Accuracy  : % 97.8426\n",
            "\n",
            "\n",
            "\n",
            " The feature of run is removed\n",
            "Cost after epoch 0: 0.572958\n",
            "Cost after epoch 10: 0.414131\n",
            "Cost after epoch 20: 0.400498\n",
            "\n",
            " Accuracy  : % 97.8501\n",
            "\n",
            "\n",
            "\n",
            " The feature of camcol is removed\n",
            "Cost after epoch 0: 2.867611\n",
            "Cost after epoch 10: 2.698715\n",
            "Cost after epoch 20: 2.704608\n",
            "\n",
            " Accuracy  : % 91.4924\n",
            "\n",
            "\n",
            "\n",
            " The feature of field is removed\n",
            "Cost after epoch 0: 1.356595\n",
            "Cost after epoch 10: 0.713199\n",
            "Cost after epoch 20: 0.643384\n",
            "\n",
            " Accuracy  : % 94.2318\n",
            "\n",
            "\n",
            "\n",
            " The feature of redshift is removed\n",
            "Cost after epoch 0: 0.665742\n",
            "Cost after epoch 10: 0.489861\n",
            "Cost after epoch 20: 0.476231\n",
            "\n",
            " Accuracy  : % 97.8848\n",
            "\n",
            "\n",
            "\n",
            " The feature of plate is removed\n",
            "Cost after epoch 0: 0.595388\n",
            "Cost after epoch 10: 0.368832\n",
            "Cost after epoch 20: 0.397970\n",
            "\n",
            " Accuracy  : % 97.9466\n",
            "\n",
            "\n",
            "The column plate is dropped since accuray increased from 97.7491 to [97.9466]\n",
            "Elapsed time for droping plate column is 2.0 mins 6.374308347702026 secs\n",
            "Cost after epoch 0: 0.392365\n",
            "Cost after epoch 10: 0.405546\n",
            "Cost after epoch 20: 0.407642\n",
            "\n",
            " Accuracy  : % 97.9873\n",
            "\n",
            " The feature of ra is removed\n",
            "Cost after epoch 0: 0.492584\n",
            "Cost after epoch 10: 0.404127\n",
            "Cost after epoch 20: 0.381505\n",
            "\n",
            " Accuracy  : % 97.8682\n",
            "\n",
            "\n",
            "\n",
            " The feature of dec is removed\n",
            "Cost after epoch 0: 0.710959\n",
            "Cost after epoch 10: 0.421338\n",
            "Cost after epoch 20: 0.404576\n",
            "\n",
            " Accuracy  : % 98.0084\n",
            "\n",
            "\n",
            "\n",
            " The feature of psfMag_u is removed\n",
            "Cost after epoch 0: 0.734802\n",
            "Cost after epoch 10: 0.547965\n",
            "Cost after epoch 20: 0.553864\n",
            "\n",
            " Accuracy  : % 97.4838\n",
            "\n",
            "\n",
            "\n",
            " The feature of psfMag_g is removed\n",
            "Cost after epoch 0: 2.872960\n",
            "Cost after epoch 10: 2.757823\n",
            "Cost after epoch 20: 2.755207\n",
            "\n",
            " Accuracy  : % 92.0095\n",
            "\n",
            "\n",
            "\n",
            " The feature of psfMag_r is removed\n",
            "Cost after epoch 0: 2.821758\n",
            "Cost after epoch 10: 2.731244\n",
            "Cost after epoch 20: 2.738647\n",
            "\n",
            " Accuracy  : % 92.103\n",
            "\n",
            "\n",
            "\n",
            " The feature of psfMag_i is removed\n",
            "Cost after epoch 0: 7.303923\n",
            "Cost after epoch 10: 7.186104\n",
            "Cost after epoch 20: 7.151540\n",
            "\n",
            " Accuracy  : % 79.0619\n",
            "\n",
            "\n",
            "\n",
            " The feature of psfMag_z is removed\n",
            "Cost after epoch 0: 2.786539\n",
            "Cost after epoch 10: 2.699005\n",
            "Cost after epoch 20: 2.680240\n",
            "\n",
            " Accuracy  : % 92.0427\n",
            "\n",
            "\n",
            "\n",
            " The feature of run is removed\n",
            "Cost after epoch 0: 2.831010\n",
            "Cost after epoch 10: 2.719360\n",
            "Cost after epoch 20: 2.704490\n",
            "\n",
            " Accuracy  : % 92.1633\n",
            "\n",
            "\n",
            "\n",
            " The feature of camcol is removed\n",
            "Cost after epoch 0: 0.522682\n",
            "Cost after epoch 10: 0.478145\n",
            "Cost after epoch 20: 0.433264\n",
            "\n",
            " Accuracy  : % 98.0084\n",
            "\n",
            "\n",
            "\n",
            " The feature of field is removed\n",
            "Cost after epoch 0: 1.571935\n",
            "Cost after epoch 10: 1.292271\n",
            "Cost after epoch 20: 1.326993\n",
            "\n",
            " Accuracy  : % 94.1624\n",
            "\n",
            "\n",
            "\n",
            " The feature of redshift is removed\n",
            "Cost after epoch 0: 0.588640\n",
            "Cost after epoch 10: 0.450246\n",
            "Cost after epoch 20: 0.448805\n",
            "\n",
            " Accuracy  : % 97.5395\n",
            "\n",
            "\n",
            "The column dec is dropped since accuray increased from 97.9873 to [98.0084]\n",
            "Elapsed time for droping dec column is 1.0 mins 57.87867450714111 secs\n",
            "Cost after epoch 0: 2.141907\n",
            "Cost after epoch 10: 0.268956\n",
            "Cost after epoch 20: 0.241622\n",
            "\n",
            " Accuracy  : % 97.8637\n",
            "\n",
            " The feature of ra is removed\n",
            "Cost after epoch 0: 0.726734\n"
          ]
        },
        {
          "output_type": "error",
          "ename": "KeyboardInterrupt",
          "evalue": "ignored",
          "traceback": [
            "\u001b[0;31m---------------------------------------------------------------------------\u001b[0m",
            "\u001b[0;31mKeyboardInterrupt\u001b[0m                         Traceback (most recent call last)",
            "\u001b[0;32m<ipython-input-19-24dae48dd8b3>\u001b[0m in \u001b[0;36m<module>\u001b[0;34m\u001b[0m\n\u001b[1;32m      1\u001b[0m \u001b[0mBackward\u001b[0m \u001b[0;34m=\u001b[0m \u001b[0mBackwardElimination\u001b[0m\u001b[0;34m(\u001b[0m\u001b[0;36m3\u001b[0m\u001b[0;34m,\u001b[0m \u001b[0;36m0\u001b[0m\u001b[0;34m,\u001b[0m \u001b[0mmodel_nn\u001b[0m\u001b[0;34m,\u001b[0m \u001b[0mconverter\u001b[0m\u001b[0;34m.\u001b[0m\u001b[0mcolumns\u001b[0m\u001b[0;34m)\u001b[0m\u001b[0;34m\u001b[0m\u001b[0;34m\u001b[0m\u001b[0m\n\u001b[0;32m----> 2\u001b[0;31m \u001b[0meliminated_data\u001b[0m \u001b[0;34m=\u001b[0m \u001b[0mBackward\u001b[0m\u001b[0;34m.\u001b[0m\u001b[0mfast\u001b[0m\u001b[0;34m(\u001b[0m\u001b[0mX_clean\u001b[0m\u001b[0;34m,\u001b[0m \u001b[0mY\u001b[0m\u001b[0;34m,\u001b[0m \u001b[0madam\u001b[0m\u001b[0;34m,\u001b[0m \u001b[0;36m30\u001b[0m\u001b[0;34m,\u001b[0m \u001b[0;36m64\u001b[0m\u001b[0;34m)\u001b[0m\u001b[0;34m\u001b[0m\u001b[0;34m\u001b[0m\u001b[0m\n\u001b[0m",
            "\u001b[0;32m/content/ML/Preprocess/Feauture_Engineering.py\u001b[0m in \u001b[0;36mfast\u001b[0;34m(self, X, Y, *argv)\u001b[0m\n\u001b[1;32m    128\u001b[0m \u001b[0;34m\u001b[0m\u001b[0m\n\u001b[1;32m    129\u001b[0m     \u001b[0;32mdef\u001b[0m \u001b[0mfast\u001b[0m\u001b[0;34m(\u001b[0m\u001b[0mself\u001b[0m\u001b[0;34m,\u001b[0m \u001b[0mX\u001b[0m\u001b[0;34m,\u001b[0m \u001b[0mY\u001b[0m\u001b[0;34m,\u001b[0m \u001b[0;34m*\u001b[0m\u001b[0margv\u001b[0m\u001b[0;34m)\u001b[0m\u001b[0;34m:\u001b[0m\u001b[0;34m\u001b[0m\u001b[0;34m\u001b[0m\u001b[0m\n\u001b[0;32m--> 130\u001b[0;31m         \u001b[0;32mreturn\u001b[0m \u001b[0mself\u001b[0m\u001b[0;34m.\u001b[0m\u001b[0mlearn\u001b[0m\u001b[0;34m(\u001b[0m\u001b[0mX\u001b[0m\u001b[0;34m,\u001b[0m \u001b[0mY\u001b[0m\u001b[0;34m,\u001b[0m \u001b[0;34m*\u001b[0m\u001b[0margv\u001b[0m\u001b[0;34m)\u001b[0m\u001b[0;34m.\u001b[0m\u001b[0mexecute\u001b[0m\u001b[0;34m(\u001b[0m\u001b[0mX\u001b[0m\u001b[0;34m)\u001b[0m\u001b[0;34m\u001b[0m\u001b[0;34m\u001b[0m\u001b[0m\n\u001b[0m\u001b[1;32m    131\u001b[0m \u001b[0;34m\u001b[0m\u001b[0m\n\u001b[1;32m    132\u001b[0m \u001b[0;34m\u001b[0m\u001b[0m\n",
            "\u001b[0;32m/content/ML/Preprocess/Feauture_Engineering.py\u001b[0m in \u001b[0;36mlearn\u001b[0;34m(self, X, Y, *argv)\u001b[0m\n\u001b[1;32m     93\u001b[0m                 \u001b[0mopt\u001b[0m\u001b[0;34m.\u001b[0m\u001b[0m__init__\u001b[0m\u001b[0;34m(\u001b[0m\u001b[0mopt\u001b[0m\u001b[0;34m.\u001b[0m\u001b[0mmethod\u001b[0m\u001b[0;34m,\u001b[0m \u001b[0mopt\u001b[0m\u001b[0;34m.\u001b[0m\u001b[0mlearning_rate\u001b[0m\u001b[0;34m,\u001b[0m \u001b[0mopt\u001b[0m\u001b[0;34m.\u001b[0m\u001b[0mbeta\u001b[0m\u001b[0;34m,\u001b[0m \u001b[0mopt\u001b[0m\u001b[0;34m.\u001b[0m\u001b[0mbeta1\u001b[0m\u001b[0;34m,\u001b[0m\u001b[0mopt\u001b[0m\u001b[0;34m.\u001b[0m\u001b[0mbeta2\u001b[0m\u001b[0;34m)\u001b[0m\u001b[0;34m\u001b[0m\u001b[0;34m\u001b[0m\u001b[0m\n\u001b[1;32m     94\u001b[0m \u001b[0;34m\u001b[0m\u001b[0m\n\u001b[0;32m---> 95\u001b[0;31m                 \u001b[0mself\u001b[0m\u001b[0;34m.\u001b[0m\u001b[0mmodel\u001b[0m\u001b[0;34m.\u001b[0m\u001b[0mlearn\u001b[0m\u001b[0;34m(\u001b[0m\u001b[0mtemp_data\u001b[0m\u001b[0;34m,\u001b[0m \u001b[0mY\u001b[0m\u001b[0;34m,\u001b[0m \u001b[0;34m*\u001b[0m\u001b[0margv\u001b[0m\u001b[0;34m)\u001b[0m\u001b[0;34m\u001b[0m\u001b[0;34m\u001b[0m\u001b[0m\n\u001b[0m\u001b[1;32m     96\u001b[0m                 \u001b[0msoft_out\u001b[0m \u001b[0;34m=\u001b[0m \u001b[0mself\u001b[0m\u001b[0;34m.\u001b[0m\u001b[0mmodel\u001b[0m\u001b[0;34m.\u001b[0m\u001b[0mpredict\u001b[0m\u001b[0;34m(\u001b[0m\u001b[0mtemp_data\u001b[0m\u001b[0;34m)\u001b[0m\u001b[0;34m\u001b[0m\u001b[0;34m\u001b[0m\u001b[0m\n\u001b[1;32m     97\u001b[0m \u001b[0;34m\u001b[0m\u001b[0m\n",
            "\u001b[0;32m/content/ML/Models/NeuralNetwork/Trainer.py\u001b[0m in \u001b[0;36mlearn\u001b[0;34m(self, X, Y, optimizer, max_epoch, batch_size)\u001b[0m\n\u001b[1;32m     44\u001b[0m                     \u001b[0mdA\u001b[0m \u001b[0;34m=\u001b[0m \u001b[0mlayer\u001b[0m\u001b[0;34m.\u001b[0m\u001b[0mbackward\u001b[0m\u001b[0;34m(\u001b[0m\u001b[0mdA\u001b[0m\u001b[0;34m)\u001b[0m\u001b[0;34m\u001b[0m\u001b[0;34m\u001b[0m\u001b[0m\n\u001b[1;32m     45\u001b[0m \u001b[0;34m\u001b[0m\u001b[0m\n\u001b[0;32m---> 46\u001b[0;31m                 \u001b[0moptimizer\u001b[0m\u001b[0;34m.\u001b[0m\u001b[0mstep\u001b[0m\u001b[0;34m(\u001b[0m\u001b[0mself\u001b[0m\u001b[0;34m.\u001b[0m\u001b[0mlayers\u001b[0m\u001b[0;34m)\u001b[0m\u001b[0;34m\u001b[0m\u001b[0;34m\u001b[0m\u001b[0m\n\u001b[0m\u001b[1;32m     47\u001b[0m \u001b[0;34m\u001b[0m\u001b[0m\n\u001b[1;32m     48\u001b[0m             \u001b[0;32mif\u001b[0m \u001b[0mepoch\u001b[0m \u001b[0;34m%\u001b[0m \u001b[0;36m10\u001b[0m \u001b[0;34m==\u001b[0m \u001b[0;36m0\u001b[0m\u001b[0;34m:\u001b[0m\u001b[0;34m\u001b[0m\u001b[0;34m\u001b[0m\u001b[0m\n",
            "\u001b[0;32m/content/ML/Models/NeuralNetwork/Optimizer.py\u001b[0m in \u001b[0;36mstep\u001b[0;34m(self, layer_list)\u001b[0m\n\u001b[1;32m     65\u001b[0m                 \u001b[0ms_corrected\u001b[0m\u001b[0;34m[\u001b[0m\u001b[0;34m'b'\u001b[0m\u001b[0;34m]\u001b[0m\u001b[0;34m.\u001b[0m\u001b[0mappend\u001b[0m\u001b[0;34m(\u001b[0m\u001b[0;34m(\u001b[0m\u001b[0mself\u001b[0m\u001b[0;34m.\u001b[0m\u001b[0ms\u001b[0m\u001b[0;34m[\u001b[0m\u001b[0;34m\"b\"\u001b[0m\u001b[0;34m]\u001b[0m\u001b[0;34m[\u001b[0m\u001b[0mi\u001b[0m\u001b[0;34m]\u001b[0m \u001b[0;34m/\u001b[0m \u001b[0;34m(\u001b[0m\u001b[0;36m1\u001b[0m\u001b[0;34m-\u001b[0m\u001b[0mself\u001b[0m\u001b[0;34m.\u001b[0m\u001b[0mbeta2\u001b[0m\u001b[0;34m**\u001b[0m\u001b[0mself\u001b[0m\u001b[0;34m.\u001b[0m\u001b[0mt\u001b[0m\u001b[0;34m)\u001b[0m\u001b[0;34m)\u001b[0m\u001b[0;34m)\u001b[0m\u001b[0;34m\u001b[0m\u001b[0;34m\u001b[0m\u001b[0m\n\u001b[1;32m     66\u001b[0m \u001b[0;34m\u001b[0m\u001b[0m\n\u001b[0;32m---> 67\u001b[0;31m                 \u001b[0mnew_W\u001b[0m \u001b[0;34m=\u001b[0m \u001b[0mlayer\u001b[0m\u001b[0;34m.\u001b[0m\u001b[0mweight\u001b[0m \u001b[0;34m-\u001b[0m\u001b[0;34m(\u001b[0m\u001b[0mself\u001b[0m\u001b[0;34m.\u001b[0m\u001b[0mlearning_rate\u001b[0m \u001b[0;34m*\u001b[0m \u001b[0mv_corrected\u001b[0m\u001b[0;34m[\u001b[0m\u001b[0;34m'W'\u001b[0m\u001b[0;34m]\u001b[0m\u001b[0;34m[\u001b[0m\u001b[0mi\u001b[0m\u001b[0;34m]\u001b[0m \u001b[0;34m/\u001b[0m \u001b[0;34m(\u001b[0m\u001b[0ms_corrected\u001b[0m\u001b[0;34m[\u001b[0m\u001b[0;34m\"W\"\u001b[0m\u001b[0;34m]\u001b[0m\u001b[0;34m[\u001b[0m\u001b[0mi\u001b[0m\u001b[0;34m]\u001b[0m\u001b[0;34m**\u001b[0m\u001b[0;34m(\u001b[0m\u001b[0;36m0.5\u001b[0m\u001b[0;34m)\u001b[0m \u001b[0;34m+\u001b[0m \u001b[0mself\u001b[0m\u001b[0;34m.\u001b[0m\u001b[0mepsilon\u001b[0m\u001b[0;34m)\u001b[0m\u001b[0;34m)\u001b[0m\u001b[0;34m\u001b[0m\u001b[0;34m\u001b[0m\u001b[0m\n\u001b[0m\u001b[1;32m     68\u001b[0m                 \u001b[0mnew_b\u001b[0m \u001b[0;34m=\u001b[0m \u001b[0mlayer\u001b[0m\u001b[0;34m.\u001b[0m\u001b[0mbais\u001b[0m \u001b[0;34m-\u001b[0m\u001b[0;34m(\u001b[0m\u001b[0mself\u001b[0m\u001b[0;34m.\u001b[0m\u001b[0mlearning_rate\u001b[0m \u001b[0;34m*\u001b[0m \u001b[0mv_corrected\u001b[0m\u001b[0;34m[\u001b[0m\u001b[0;34m'b'\u001b[0m\u001b[0;34m]\u001b[0m\u001b[0;34m[\u001b[0m\u001b[0mi\u001b[0m\u001b[0;34m]\u001b[0m \u001b[0;34m/\u001b[0m \u001b[0;34m(\u001b[0m\u001b[0ms_corrected\u001b[0m\u001b[0;34m[\u001b[0m\u001b[0;34m\"b\"\u001b[0m\u001b[0;34m]\u001b[0m\u001b[0;34m[\u001b[0m\u001b[0mi\u001b[0m\u001b[0;34m]\u001b[0m\u001b[0;34m**\u001b[0m\u001b[0;34m(\u001b[0m\u001b[0;36m0.5\u001b[0m\u001b[0;34m)\u001b[0m \u001b[0;34m+\u001b[0m \u001b[0mself\u001b[0m\u001b[0;34m.\u001b[0m\u001b[0mepsilon\u001b[0m\u001b[0;34m)\u001b[0m\u001b[0;34m)\u001b[0m\u001b[0;34m\u001b[0m\u001b[0;34m\u001b[0m\u001b[0m\n\u001b[1;32m     69\u001b[0m                 \u001b[0mlayer\u001b[0m\u001b[0;34m.\u001b[0m\u001b[0mupdate_params\u001b[0m\u001b[0;34m(\u001b[0m\u001b[0mnew_W\u001b[0m\u001b[0;34m,\u001b[0m\u001b[0mnew_b\u001b[0m\u001b[0;34m)\u001b[0m\u001b[0;34m\u001b[0m\u001b[0;34m\u001b[0m\u001b[0m\n",
            "\u001b[0;31mKeyboardInterrupt\u001b[0m: "
          ]
        },
        {
          "output_type": "display_data",
          "data": {
            "text/plain": [
              "<Figure size 432x288 with 1 Axes>"
            ],
            "image/png": "[encoded data removed]"
          },
          "metadata": {
            "needs_background": "light"
          }
        }
      ]
    },
    {
      "cell_type": "code",
      "source": [
        "eliminated_data.shape"
      ],
      "metadata": {
        "colab": {
          "base_uri": "https://localhost:8080/"
        },
        "id": "UF5MBWpI1YbX",
        "outputId": "8844a4f7-7cea-4e18-d4d0-b2fd33a6267d"
      },
      "execution_count": 22,
      "outputs": [
        {
          "output_type": "execute_result",
          "data": {
            "text/plain": [
              "(66329, 14)"
            ]
          },
          "metadata": {},
          "execution_count": 22
        }
      ]
    },
    {
      "cell_type": "code",
      "source": [
        "build2 = [Dense(14, 32), Dense(32, 8), Dense(8, 3, activation = \"softmax\")]\n",
        "NN = NeuralNetwork(build2, \"CrossEntopy\")\n",
        "adam = Optimizer(\"adam\", 0.01, None, 0.9, 0.99)\n",
        "\n",
        "NN.learn(eliminated_data, Y, optimizer = adam, max_epoch = 60, batch_size = 64)"
      ],
      "metadata": {
        "id": "rTKSkQa01cgY"
      },
      "execution_count": null,
      "outputs": []
    }
  ]
}